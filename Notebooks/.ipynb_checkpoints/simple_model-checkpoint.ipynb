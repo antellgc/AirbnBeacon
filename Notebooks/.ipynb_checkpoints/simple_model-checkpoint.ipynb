{
 "cells": [
  {
   "cell_type": "markdown",
   "metadata": {},
   "source": [
    "# Import Libraries"
   ]
  },
  {
   "cell_type": "code",
   "execution_count": 2,
   "metadata": {
    "collapsed": true
   },
   "outputs": [],
   "source": [
    "import pandas as pd\n",
    "import numpy as np\n",
    "from collections import Counter\n",
    "import matplotlib.pyplot as plt\n",
    "%matplotlib inline\n",
    "pd.set_option('chained_assignment',None)"
   ]
  },
  {
   "cell_type": "markdown",
   "metadata": {},
   "source": [
    "# Import data"
   ]
  },
  {
   "cell_type": "code",
   "execution_count": 3,
   "metadata": {},
   "outputs": [
    {
     "name": "stdout",
     "output_type": "stream",
     "text": [
      "(6608, 95)\n"
     ]
    }
   ],
   "source": [
    "fpath_listings_detailed = '../SanDiego/listings_detailed.csv'\n",
    "\n",
    "list_df = pd.read_csv(fpath_listings_detailed)\n",
    "print list_df.shape"
   ]
  },
  {
   "cell_type": "markdown",
   "metadata": {},
   "source": [
    "# Designate Features"
   ]
  },
  {
   "cell_type": "code",
   "execution_count": 4,
   "metadata": {},
   "outputs": [
    {
     "name": "stdout",
     "output_type": "stream",
     "text": [
      "(6608, 11)\n"
     ]
    },
    {
     "data": {
      "text/html": [
       "<div>\n",
       "<table border=\"1\" class=\"dataframe\">\n",
       "  <thead>\n",
       "    <tr style=\"text-align: right;\">\n",
       "      <th></th>\n",
       "      <th>price</th>\n",
       "      <th>property_type</th>\n",
       "      <th>room_type</th>\n",
       "      <th>accommodates</th>\n",
       "      <th>bathrooms</th>\n",
       "      <th>bedrooms</th>\n",
       "      <th>beds</th>\n",
       "      <th>neighbourhood_cleansed</th>\n",
       "      <th>latitude</th>\n",
       "      <th>longitude</th>\n",
       "      <th>amenities</th>\n",
       "    </tr>\n",
       "  </thead>\n",
       "  <tbody>\n",
       "    <tr>\n",
       "      <th>0</th>\n",
       "      <td>$49.00</td>\n",
       "      <td>House</td>\n",
       "      <td>Private room</td>\n",
       "      <td>2</td>\n",
       "      <td>1.0</td>\n",
       "      <td>1.0</td>\n",
       "      <td>1.0</td>\n",
       "      <td>Amphitheater And Water Park</td>\n",
       "      <td>32.581882</td>\n",
       "      <td>-117.001940</td>\n",
       "      <td>{TV,\"Wireless Internet\",Heating,\"Family/Kid Fr...</td>\n",
       "    </tr>\n",
       "    <tr>\n",
       "      <th>1</th>\n",
       "      <td>$59.00</td>\n",
       "      <td>Condominium</td>\n",
       "      <td>Private room</td>\n",
       "      <td>2</td>\n",
       "      <td>1.0</td>\n",
       "      <td>1.0</td>\n",
       "      <td>1.0</td>\n",
       "      <td>East Lake</td>\n",
       "      <td>32.653029</td>\n",
       "      <td>-116.976812</td>\n",
       "      <td>{Internet,\"Wireless Internet\",\"Air Conditionin...</td>\n",
       "    </tr>\n",
       "    <tr>\n",
       "      <th>2</th>\n",
       "      <td>$150.00</td>\n",
       "      <td>Condominium</td>\n",
       "      <td>Entire home/apt</td>\n",
       "      <td>6</td>\n",
       "      <td>2.5</td>\n",
       "      <td>3.0</td>\n",
       "      <td>3.0</td>\n",
       "      <td>East Lake</td>\n",
       "      <td>32.661477</td>\n",
       "      <td>-116.971813</td>\n",
       "      <td>{TV,\"Cable TV\",\"Wireless Internet\",\"Air Condit...</td>\n",
       "    </tr>\n",
       "    <tr>\n",
       "      <th>3</th>\n",
       "      <td>$120.00</td>\n",
       "      <td>Townhouse</td>\n",
       "      <td>Entire home/apt</td>\n",
       "      <td>4</td>\n",
       "      <td>1.5</td>\n",
       "      <td>2.0</td>\n",
       "      <td>3.0</td>\n",
       "      <td>Eastlake Trails</td>\n",
       "      <td>32.638694</td>\n",
       "      <td>-116.951252</td>\n",
       "      <td>{TV,\"Cable TV\",Internet,\"Wireless Internet\",Ki...</td>\n",
       "    </tr>\n",
       "    <tr>\n",
       "      <th>4</th>\n",
       "      <td>$70.00</td>\n",
       "      <td>House</td>\n",
       "      <td>Private room</td>\n",
       "      <td>2</td>\n",
       "      <td>1.0</td>\n",
       "      <td>1.0</td>\n",
       "      <td>1.0</td>\n",
       "      <td>Eastlake Vistas</td>\n",
       "      <td>32.638942</td>\n",
       "      <td>-116.938891</td>\n",
       "      <td>{TV,\"Cable TV\",Internet,\"Wireless Internet\",Po...</td>\n",
       "    </tr>\n",
       "  </tbody>\n",
       "</table>\n",
       "</div>"
      ],
      "text/plain": [
       "     price property_type        room_type  accommodates  bathrooms  bedrooms  \\\n",
       "0   $49.00         House     Private room             2        1.0       1.0   \n",
       "1   $59.00   Condominium     Private room             2        1.0       1.0   \n",
       "2  $150.00   Condominium  Entire home/apt             6        2.5       3.0   \n",
       "3  $120.00     Townhouse  Entire home/apt             4        1.5       2.0   \n",
       "4   $70.00         House     Private room             2        1.0       1.0   \n",
       "\n",
       "   beds       neighbourhood_cleansed   latitude   longitude  \\\n",
       "0   1.0  Amphitheater And Water Park  32.581882 -117.001940   \n",
       "1   1.0                    East Lake  32.653029 -116.976812   \n",
       "2   3.0                    East Lake  32.661477 -116.971813   \n",
       "3   3.0              Eastlake Trails  32.638694 -116.951252   \n",
       "4   1.0              Eastlake Vistas  32.638942 -116.938891   \n",
       "\n",
       "                                           amenities  \n",
       "0  {TV,\"Wireless Internet\",Heating,\"Family/Kid Fr...  \n",
       "1  {Internet,\"Wireless Internet\",\"Air Conditionin...  \n",
       "2  {TV,\"Cable TV\",\"Wireless Internet\",\"Air Condit...  \n",
       "3  {TV,\"Cable TV\",Internet,\"Wireless Internet\",Ki...  \n",
       "4  {TV,\"Cable TV\",Internet,\"Wireless Internet\",Po...  "
      ]
     },
     "execution_count": 4,
     "metadata": {},
     "output_type": "execute_result"
    }
   ],
   "source": [
    "features = ['price','property_type','room_type','accommodates','bathrooms',\n",
    "            'bedrooms','beds','neighbourhood_cleansed','latitude','longitude',\n",
    "            'amenities']\n",
    "\n",
    "pre_df = list_df[features]\n",
    "print pre_df.shape\n",
    "pre_df.head()"
   ]
  },
  {
   "cell_type": "markdown",
   "metadata": {},
   "source": [
    "# Clean Up Features"
   ]
  },
  {
   "cell_type": "code",
   "execution_count": 5,
   "metadata": {},
   "outputs": [
    {
     "name": "stdout",
     "output_type": "stream",
     "text": [
      "(6608, 11)\n"
     ]
    },
    {
     "data": {
      "text/html": [
       "<div>\n",
       "<table border=\"1\" class=\"dataframe\">\n",
       "  <thead>\n",
       "    <tr style=\"text-align: right;\">\n",
       "      <th></th>\n",
       "      <th>price</th>\n",
       "      <th>property_type</th>\n",
       "      <th>room_type</th>\n",
       "      <th>accommodates</th>\n",
       "      <th>bathrooms</th>\n",
       "      <th>bedrooms</th>\n",
       "      <th>beds</th>\n",
       "      <th>neighbourhood_cleansed</th>\n",
       "      <th>latitude</th>\n",
       "      <th>longitude</th>\n",
       "      <th>amenities</th>\n",
       "    </tr>\n",
       "  </thead>\n",
       "  <tbody>\n",
       "    <tr>\n",
       "      <th>0</th>\n",
       "      <td>49.0</td>\n",
       "      <td>House</td>\n",
       "      <td>Private room</td>\n",
       "      <td>2</td>\n",
       "      <td>1.0</td>\n",
       "      <td>1.0</td>\n",
       "      <td>1.0</td>\n",
       "      <td>Amphitheater And Water Park</td>\n",
       "      <td>32.581882</td>\n",
       "      <td>-117.001940</td>\n",
       "      <td>[TV, Wireless Internet, Heating, Family/Kid Fr...</td>\n",
       "    </tr>\n",
       "    <tr>\n",
       "      <th>1</th>\n",
       "      <td>59.0</td>\n",
       "      <td>Condominium</td>\n",
       "      <td>Private room</td>\n",
       "      <td>2</td>\n",
       "      <td>1.0</td>\n",
       "      <td>1.0</td>\n",
       "      <td>1.0</td>\n",
       "      <td>East Lake</td>\n",
       "      <td>32.653029</td>\n",
       "      <td>-116.976812</td>\n",
       "      <td>[Internet, Wireless Internet, Air Conditioning...</td>\n",
       "    </tr>\n",
       "    <tr>\n",
       "      <th>2</th>\n",
       "      <td>150.0</td>\n",
       "      <td>Condominium</td>\n",
       "      <td>Entire home/apt</td>\n",
       "      <td>6</td>\n",
       "      <td>2.5</td>\n",
       "      <td>3.0</td>\n",
       "      <td>3.0</td>\n",
       "      <td>East Lake</td>\n",
       "      <td>32.661477</td>\n",
       "      <td>-116.971813</td>\n",
       "      <td>[TV, Cable TV, Wireless Internet, Air Conditio...</td>\n",
       "    </tr>\n",
       "    <tr>\n",
       "      <th>3</th>\n",
       "      <td>120.0</td>\n",
       "      <td>Townhouse</td>\n",
       "      <td>Entire home/apt</td>\n",
       "      <td>4</td>\n",
       "      <td>1.5</td>\n",
       "      <td>2.0</td>\n",
       "      <td>3.0</td>\n",
       "      <td>Eastlake Trails</td>\n",
       "      <td>32.638694</td>\n",
       "      <td>-116.951252</td>\n",
       "      <td>[TV, Cable TV, Internet, Wireless Internet, Ki...</td>\n",
       "    </tr>\n",
       "    <tr>\n",
       "      <th>4</th>\n",
       "      <td>70.0</td>\n",
       "      <td>House</td>\n",
       "      <td>Private room</td>\n",
       "      <td>2</td>\n",
       "      <td>1.0</td>\n",
       "      <td>1.0</td>\n",
       "      <td>1.0</td>\n",
       "      <td>Eastlake Vistas</td>\n",
       "      <td>32.638942</td>\n",
       "      <td>-116.938891</td>\n",
       "      <td>[TV, Cable TV, Internet, Wireless Internet, Po...</td>\n",
       "    </tr>\n",
       "  </tbody>\n",
       "</table>\n",
       "</div>"
      ],
      "text/plain": [
       "   price property_type        room_type  accommodates  bathrooms  bedrooms  \\\n",
       "0   49.0         House     Private room             2        1.0       1.0   \n",
       "1   59.0   Condominium     Private room             2        1.0       1.0   \n",
       "2  150.0   Condominium  Entire home/apt             6        2.5       3.0   \n",
       "3  120.0     Townhouse  Entire home/apt             4        1.5       2.0   \n",
       "4   70.0         House     Private room             2        1.0       1.0   \n",
       "\n",
       "   beds       neighbourhood_cleansed   latitude   longitude  \\\n",
       "0   1.0  Amphitheater And Water Park  32.581882 -117.001940   \n",
       "1   1.0                    East Lake  32.653029 -116.976812   \n",
       "2   3.0                    East Lake  32.661477 -116.971813   \n",
       "3   3.0              Eastlake Trails  32.638694 -116.951252   \n",
       "4   1.0              Eastlake Vistas  32.638942 -116.938891   \n",
       "\n",
       "                                           amenities  \n",
       "0  [TV, Wireless Internet, Heating, Family/Kid Fr...  \n",
       "1  [Internet, Wireless Internet, Air Conditioning...  \n",
       "2  [TV, Cable TV, Wireless Internet, Air Conditio...  \n",
       "3  [TV, Cable TV, Internet, Wireless Internet, Ki...  \n",
       "4  [TV, Cable TV, Internet, Wireless Internet, Po...  "
      ]
     },
     "execution_count": 5,
     "metadata": {},
     "output_type": "execute_result"
    }
   ],
   "source": [
    "def amenity_list(x):\n",
    "    amenities_str = x.replace('\"','').replace('{','').replace('}','')\n",
    "    amenities_list = amenities_str.split(',')\n",
    "    return amenities_list\n",
    "\n",
    "def price_to_float(x):\n",
    "    x = x.replace('$','')\n",
    "    x = x.replace(',','')\n",
    "    return float(x)\n",
    "\n",
    "pre_df['amenities'] = pre_df['amenities'].apply(amenity_list)\n",
    "pre_df['price'] = pre_df['price'].apply(price_to_float)\n",
    "\n",
    "print pre_df.shape\n",
    "pre_df.head()"
   ]
  },
  {
   "cell_type": "markdown",
   "metadata": {},
   "source": [
    "# Get binary labels for amenities"
   ]
  },
  {
   "cell_type": "code",
   "execution_count": 6,
   "metadata": {},
   "outputs": [
    {
     "name": "stdout",
     "output_type": "stream",
     "text": [
      "(6608, 40)\n"
     ]
    },
    {
     "data": {
      "text/html": [
       "<div>\n",
       "<table border=\"1\" class=\"dataframe\">\n",
       "  <thead>\n",
       "    <tr style=\"text-align: right;\">\n",
       "      <th></th>\n",
       "      <th>24-Hour Check-in</th>\n",
       "      <th>Air Conditioning</th>\n",
       "      <th>Breakfast</th>\n",
       "      <th>Buzzer/Wireless Intercom</th>\n",
       "      <th>Cable TV</th>\n",
       "      <th>Carbon Monoxide Detector</th>\n",
       "      <th>Cat(s)</th>\n",
       "      <th>Dog(s)</th>\n",
       "      <th>Doorman</th>\n",
       "      <th>Dryer</th>\n",
       "      <th>...</th>\n",
       "      <th>Pool</th>\n",
       "      <th>Safety Card</th>\n",
       "      <th>Shampoo</th>\n",
       "      <th>Smoke Detector</th>\n",
       "      <th>Smoking Allowed</th>\n",
       "      <th>Suitable for Events</th>\n",
       "      <th>TV</th>\n",
       "      <th>Washer</th>\n",
       "      <th>Wheelchair Accessible</th>\n",
       "      <th>Wireless Internet</th>\n",
       "    </tr>\n",
       "  </thead>\n",
       "  <tbody>\n",
       "    <tr>\n",
       "      <th>0</th>\n",
       "      <td>0</td>\n",
       "      <td>0</td>\n",
       "      <td>0</td>\n",
       "      <td>0</td>\n",
       "      <td>0</td>\n",
       "      <td>1</td>\n",
       "      <td>0</td>\n",
       "      <td>0</td>\n",
       "      <td>0</td>\n",
       "      <td>0</td>\n",
       "      <td>...</td>\n",
       "      <td>0</td>\n",
       "      <td>0</td>\n",
       "      <td>1</td>\n",
       "      <td>1</td>\n",
       "      <td>0</td>\n",
       "      <td>0</td>\n",
       "      <td>1</td>\n",
       "      <td>0</td>\n",
       "      <td>0</td>\n",
       "      <td>1</td>\n",
       "    </tr>\n",
       "    <tr>\n",
       "      <th>1</th>\n",
       "      <td>0</td>\n",
       "      <td>1</td>\n",
       "      <td>0</td>\n",
       "      <td>0</td>\n",
       "      <td>0</td>\n",
       "      <td>1</td>\n",
       "      <td>0</td>\n",
       "      <td>0</td>\n",
       "      <td>0</td>\n",
       "      <td>0</td>\n",
       "      <td>...</td>\n",
       "      <td>1</td>\n",
       "      <td>1</td>\n",
       "      <td>1</td>\n",
       "      <td>1</td>\n",
       "      <td>0</td>\n",
       "      <td>0</td>\n",
       "      <td>0</td>\n",
       "      <td>0</td>\n",
       "      <td>0</td>\n",
       "      <td>1</td>\n",
       "    </tr>\n",
       "    <tr>\n",
       "      <th>2</th>\n",
       "      <td>0</td>\n",
       "      <td>1</td>\n",
       "      <td>0</td>\n",
       "      <td>0</td>\n",
       "      <td>1</td>\n",
       "      <td>1</td>\n",
       "      <td>0</td>\n",
       "      <td>0</td>\n",
       "      <td>0</td>\n",
       "      <td>1</td>\n",
       "      <td>...</td>\n",
       "      <td>1</td>\n",
       "      <td>0</td>\n",
       "      <td>0</td>\n",
       "      <td>1</td>\n",
       "      <td>0</td>\n",
       "      <td>0</td>\n",
       "      <td>1</td>\n",
       "      <td>1</td>\n",
       "      <td>0</td>\n",
       "      <td>1</td>\n",
       "    </tr>\n",
       "    <tr>\n",
       "      <th>3</th>\n",
       "      <td>1</td>\n",
       "      <td>0</td>\n",
       "      <td>0</td>\n",
       "      <td>0</td>\n",
       "      <td>1</td>\n",
       "      <td>0</td>\n",
       "      <td>0</td>\n",
       "      <td>0</td>\n",
       "      <td>0</td>\n",
       "      <td>1</td>\n",
       "      <td>...</td>\n",
       "      <td>0</td>\n",
       "      <td>0</td>\n",
       "      <td>0</td>\n",
       "      <td>1</td>\n",
       "      <td>0</td>\n",
       "      <td>0</td>\n",
       "      <td>1</td>\n",
       "      <td>1</td>\n",
       "      <td>0</td>\n",
       "      <td>1</td>\n",
       "    </tr>\n",
       "    <tr>\n",
       "      <th>4</th>\n",
       "      <td>1</td>\n",
       "      <td>0</td>\n",
       "      <td>1</td>\n",
       "      <td>0</td>\n",
       "      <td>1</td>\n",
       "      <td>0</td>\n",
       "      <td>0</td>\n",
       "      <td>0</td>\n",
       "      <td>0</td>\n",
       "      <td>1</td>\n",
       "      <td>...</td>\n",
       "      <td>1</td>\n",
       "      <td>1</td>\n",
       "      <td>1</td>\n",
       "      <td>1</td>\n",
       "      <td>0</td>\n",
       "      <td>1</td>\n",
       "      <td>1</td>\n",
       "      <td>1</td>\n",
       "      <td>0</td>\n",
       "      <td>1</td>\n",
       "    </tr>\n",
       "  </tbody>\n",
       "</table>\n",
       "<p>5 rows × 40 columns</p>\n",
       "</div>"
      ],
      "text/plain": [
       "   24-Hour Check-in  Air Conditioning  Breakfast  Buzzer/Wireless Intercom  \\\n",
       "0                 0                 0          0                         0   \n",
       "1                 0                 1          0                         0   \n",
       "2                 0                 1          0                         0   \n",
       "3                 1                 0          0                         0   \n",
       "4                 1                 0          1                         0   \n",
       "\n",
       "   Cable TV  Carbon Monoxide Detector  Cat(s)  Dog(s)  Doorman  Dryer  \\\n",
       "0         0                         1       0       0        0      0   \n",
       "1         0                         1       0       0        0      0   \n",
       "2         1                         1       0       0        0      1   \n",
       "3         1                         0       0       0        0      1   \n",
       "4         1                         0       0       0        0      1   \n",
       "\n",
       "         ...          Pool  Safety Card  Shampoo  Smoke Detector  \\\n",
       "0        ...             0            0        1               1   \n",
       "1        ...             1            1        1               1   \n",
       "2        ...             1            0        0               1   \n",
       "3        ...             0            0        0               1   \n",
       "4        ...             1            1        1               1   \n",
       "\n",
       "   Smoking Allowed  Suitable for Events  TV  Washer  Wheelchair Accessible  \\\n",
       "0                0                    0   1       0                      0   \n",
       "1                0                    0   0       0                      0   \n",
       "2                0                    0   1       1                      0   \n",
       "3                0                    0   1       1                      0   \n",
       "4                0                    1   1       1                      0   \n",
       "\n",
       "   Wireless Internet  \n",
       "0                  1  \n",
       "1                  1  \n",
       "2                  1  \n",
       "3                  1  \n",
       "4                  1  \n",
       "\n",
       "[5 rows x 40 columns]"
      ]
     },
     "execution_count": 6,
     "metadata": {},
     "output_type": "execute_result"
    }
   ],
   "source": [
    "# get binary for amenities\n",
    "from sklearn.preprocessing import MultiLabelBinarizer\n",
    "\n",
    "mlb = MultiLabelBinarizer()\n",
    "amenity_mlb = mlb.fit_transform(pre_df.amenities)\n",
    "amenity_df = pd.DataFrame(amenity_mlb, columns=mlb.classes_)\n",
    "\n",
    "# remove the weird columns\n",
    "amenity_df.drop('', axis=1, inplace=True)\n",
    "amenity_df.drop('translation missing: en.hosting_amenity_49', axis=1, inplace=True)\n",
    "amenity_df.drop('translation missing: en.hosting_amenity_50', axis=1, inplace=True)\n",
    "print amenity_df.shape\n",
    "amenity_df.head()\n",
    "\n",
    "# concatenate dataframe\n",
    "concat_df = pd.concat([pre_df,amenity_df],axis=1)\n",
    "concat_df.drop('amenities', axis=1, inplace=True)\n",
    "concat_df.head()\n",
    "\n",
    "# get dummies\n",
    "concat_df = pd.get_dummies(concat_df)\n",
    "print concat_df.shape\n",
    "concat_df.head()"
   ]
  },
  {
   "cell_type": "markdown",
   "metadata": {},
   "source": [
    "# Amenity Frequency"
   ]
  },
  {
   "cell_type": "code",
   "execution_count": 7,
   "metadata": {},
   "outputs": [
    {
     "data": {
      "image/png": "[encoded data removed]",
      "text/plain": [
       "<matplotlib.figure.Figure at 0x117171fd0>"
      ]
     },
     "metadata": {},
     "output_type": "display_data"
    }
   ],
   "source": [
    "n0 = amenity_df.shape[0]\n",
    "n1 = amenity_df.shape[1]\n",
    "plt.bar(range(n1), list(amenity_df.sum()/n0))\n",
    "plt.show()"
   ]
  },
  {
   "cell_type": "code",
   "execution_count": 16,
   "metadata": {},
   "outputs": [
    {
     "name": "stdout",
     "output_type": "stream",
     "text": [
      "(6593, 167)\n"
     ]
    }
   ],
   "source": [
    "print concat_df.shape\n",
    "concat_df.dropna(axis=0, how='any', inplace=True)\n",
    "print concat_df.shape"
   ]
  },
  {
   "cell_type": "markdown",
   "metadata": {},
   "source": [
    "# Scikit Learn"
   ]
  },
  {
   "cell_type": "code",
   "execution_count": 17,
   "metadata": {
    "collapsed": true
   },
   "outputs": [],
   "source": [
    "from sklearn.cross_validation import KFold\n",
    "from sklearn.linear_model import LinearRegression\n",
    "from sklearn.ensemble import RandomForestRegressor\n",
    "from sklearn.metrics import r2_score"
   ]
  },
  {
   "cell_type": "markdown",
   "metadata": {},
   "source": [
    "# Shuffle - Train/Validation/Test split"
   ]
  },
  {
   "cell_type": "code",
   "execution_count": 18,
   "metadata": {
    "collapsed": true
   },
   "outputs": [],
   "source": [
    "def prep_df_splits(df, value1, value2):\n",
    "    '''\n",
    "    split dataframe into train, validate, and testing dataframes\n",
    "    '''\n",
    "    train_df, validate_df, test_df = np.split(df.sample(frac=1, random_state=1),\n",
    "                                              [int(value1*len(df)), int(value2*len(df))])\n",
    "    return train_df, validate_df, test_df\n",
    "\n",
    "def get_features(df, target):\n",
    "    '''\n",
    "    get features by providing target\n",
    "    '''\n",
    "    cols = list(df.columns)\n",
    "    features = [col for col in cols if col != target]\n",
    "    return features, target"
   ]
  },
  {
   "cell_type": "code",
   "execution_count": 19,
   "metadata": {},
   "outputs": [
    {
     "name": "stdout",
     "output_type": "stream",
     "text": [
      "(3955, 167)\n",
      "(1319, 167)\n",
      "(1319, 167)\n"
     ]
    }
   ],
   "source": [
    "train_df, validate_df, test_df = prep_df_splits(concat_df, 0.6, 0.8)\n",
    "print train_df.shape\n",
    "print validate_df.shape\n",
    "print test_df.shape"
   ]
  },
  {
   "cell_type": "markdown",
   "metadata": {},
   "source": [
    "# Simple Random Forest Classifier"
   ]
  },
  {
   "cell_type": "code",
   "execution_count": 20,
   "metadata": {},
   "outputs": [
    {
     "name": "stdout",
     "output_type": "stream",
     "text": [
      "166\n",
      "price\n"
     ]
    }
   ],
   "source": [
    "features, target = get_features(train_df, 'price')\n",
    "print len(features)\n",
    "print target"
   ]
  },
  {
   "cell_type": "code",
   "execution_count": 21,
   "metadata": {
    "collapsed": true
   },
   "outputs": [],
   "source": [
    "X_train = train_df[features]\n",
    "y_train = np.ravel(train_df[target])\n",
    "X_test = test_df[features]\n",
    "y_test = np.ravel(test_df[target])"
   ]
  },
  {
   "cell_type": "code",
   "execution_count": null,
   "metadata": {},
   "outputs": [],
   "source": []
  },
  {
   "cell_type": "code",
   "execution_count": null,
   "metadata": {
    "collapsed": true
   },
   "outputs": [],
   "source": []
  },
  {
   "cell_type": "code",
   "execution_count": null,
   "metadata": {
    "collapsed": true
   },
   "outputs": [],
   "source": []
  },
  {
   "cell_type": "code",
   "execution_count": 23,
   "metadata": {},
   "outputs": [
    {
     "name": "stdout",
     "output_type": "stream",
     "text": [
      "0.721547679257\n"
     ]
    },
    {
     "data": {
      "image/png": "[encoded data removed]",
      "text/plain": [
       "<matplotlib.figure.Figure at 0x11b404490>"
      ]
     },
     "metadata": {},
     "output_type": "display_data"
    }
   ],
   "source": [
    "X_train = train_df[features]\n",
    "y_train = np.ravel(train_df[target])\n",
    "X_test = test_df[features]\n",
    "y_test = np.ravel(test_df[target])\n",
    "\n",
    "model = RandomForestRegressor(n_estimators=500, n_jobs=-1)\n",
    "y_prediction = model.fit(X_train, y_train).predict(X_test)\n",
    "r2 = r2_score(y_test, y_prediction)\n",
    "print r2\n",
    "\n",
    "fig, ax = plt.subplots(figsize=(7,5))\n",
    "ax.scatter(y_test, y_prediction, alpha=0.1)\n",
    "ax.set_xlabel('True',fontsize=20)\n",
    "ax.set_ylabel('Predicted',fontsize=20)\n",
    "ax.set_xlim([0,2000])\n",
    "ax.set_ylim([0,2000])\n",
    "plt.show()"
   ]
  },
  {
   "cell_type": "markdown",
   "metadata": {},
   "source": [
    "# Cross Validation"
   ]
  },
  {
   "cell_type": "code",
   "execution_count": null,
   "metadata": {},
   "outputs": [],
   "source": [
    "kf = KFold(y, n_folds=folds)\n",
    "\n",
    "for train_index, test_index in kf:\n",
    "    X_train, X_test = X.iloc[train_index], X.iloc[test_index]\n",
    "    Y_train, Y_test = y[train_index], y[test_index]\n",
    "    mod_prediction = model.fit(X_train, Y_train).predict(X_test)"
   ]
  },
  {
   "cell_type": "markdown",
   "metadata": {},
   "source": [
    "# Model"
   ]
  },
  {
   "cell_type": "code",
   "execution_count": null,
   "metadata": {
    "collapsed": true
   },
   "outputs": [],
   "source": []
  },
  {
   "cell_type": "code",
   "execution_count": null,
   "metadata": {
    "collapsed": true
   },
   "outputs": [],
   "source": []
  }
 ],
 "metadata": {
  "kernelspec": {
   "display_name": "Python 2",
   "language": "python",
   "name": "python2"
  },
  "language_info": {
   "codemirror_mode": {
    "name": "ipython",
    "version": 2
   },
   "file_extension": ".py",
   "mimetype": "text/x-python",
   "name": "python",
   "nbconvert_exporter": "python",
   "pygments_lexer": "ipython2",
   "version": "2.7.12"
  }
 },
 "nbformat": 4,
 "nbformat_minor": 2
}
